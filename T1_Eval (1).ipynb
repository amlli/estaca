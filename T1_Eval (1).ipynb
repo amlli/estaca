{
 "cells": [
  {
   "cell_type": "markdown",
   "metadata": {
    "id": "AWL-lBM1NP7G"
   },
   "source": [
    "<h1 align='center'> <img src=\"http://www.exalumnos.usm.cl/wp-content/uploads/2015/06/Isotipo-Negro.gif\" title=\"Title text\" width=\"20%\"  />\n",
    "\n",
    "\n",
    "<hr style=\"height:2px;border:none\"/>\n",
    "<h1 align='center'> INF-280 Estadística Computacional II-2021 </h1>\n",
    "\n",
    "<H3 align='center'> Tema 1 - Análisis Exploratorio de Datos  </H3>\n",
    "<hr style=\"height:2px;border:none\"/>\n"
   ]
  },
  {
   "cell_type": "markdown",
   "metadata": {
    "id": "NNJp22UyLSYb"
   },
   "source": [
    "\n",
    "En esta actividad se utilizarán herramientas de análisis exploratorio de datos para estudiar los salarios del personal de una facultad universitaria en Estados Unidos entre los años 2009 a 2020. \n",
    "\n",
    "\n"
   ]
  },
  {
   "cell_type": "markdown",
   "metadata": {
    "id": "jfsIDrupMjKr"
   },
   "source": [
    "<img src=\"https://www.lboro.ac.uk/media/wwwlboroacuk/external/content/mediacentre/pressreleases/2020/11/IMG_1068.jpg\" width=\"100%\"  style=\"float: right;\" />"
   ]
  },
  {
   "cell_type": "markdown",
   "metadata": {
    "id": "Y6W0N5WtL24e"
   },
   "source": [
    "\n",
    "# Formalidades\n",
    "\n",
    "* Es posible utilizar apuntes, libros, papers, ejemplos y cualquier otro material que desee de internet, pero debe ser usted quien desarrolle los ejercicios y comente los resultados en el Notebook que entregará. \n",
    "* Puede utilizar Python o R. \n",
    "* Se podrá trabajar en grupos de **dos personas**, las cuales deberán estar inscritas a través de __[Aula](https://aula.usm.cl/)__.\n",
    "* Además del Notebook, deberán entregar un video explicando lo que hizo, paso a paso, como en los ejemplos entregados en AULA. Este vídeo es **individual**, es decir, cada integrante debe hacerlo por separado (debiendo utilizar el mismo Jupyter Notebook). El video puede ser subido a una plataforma externa como Youtube, Google Drive, ó Dropbox. El **link a compartir** (*visible para cualquier usuario con el link*) debe ir dentro del Notebook.\n",
    "\n"
   ]
  },
  {
   "cell_type": "markdown",
   "metadata": {
    "id": "4Q8f21tYMSnv"
   },
   "source": [
    "# Entrega \n",
    "* **Formato**: Se debe realizar una **única** entrega por grupo (un representate del grupo) a través de  __[**Aula**](https://aula.usm.cl/)__.  La nota de esta actividad es grupal.\n",
    "* **Archivo**: Sus respuestas deben ser entregadas en forma de Jupyter Notebook, incluyendo **dos link** a los vídeos explicativos, uno por cada integrante.\n",
    "* **Vídeo**: Debe grabar la pantalla (Jupyter Notebok) donde se realiza la explicación de la actividad, con una duración de 10 a 15 minutos.\n",
    "* **Fecha límite**: Viernes 24 de Septiembre a las 23:59."
   ]
  },
  {
   "cell_type": "markdown",
   "metadata": {
    "id": "naki0iU1LPSr"
   },
   "source": [
    "# Datos"
   ]
  },
  {
   "cell_type": "markdown",
   "metadata": {
    "id": "VzAzPpc5NP9R"
   },
   "source": [
    "\n",
    "Los datos en la muestra (filas en el archivo a trabajar) corresponden al salario anual (en USD) de un trabajador de la Universidad de Vermont (UVM) un cierto año. El mismo trabajador puede estar más de una vez si estuvo contratado varios años, con su respectivo salario anual por cada año trabajador. Además se cuenta con el trabajo principal que desempeña la persona (profesor, profesor asociado, profesor asistente, orador, entre otros), además del Departamento donde lo realiza.\n",
    "\n",
    "*Para un mayor detalle de la jerarquía en los rangos académicos puede revisar en internet [link](https://en.wikipedia.org/wiki/Academic_ranks_in_the_United_States)* o en la página oficial de los datos de la Universidad [link](https://www.uvm.edu/oir/faculty-and-staff)\n",
    "\n",
    "Se entrega la información adicional de que el salario mínimo aproximado en Vermont el año 2020 fue de 24440 USD anuales, mientras que en 2019 fue de 22796 USD.\n",
    "\n",
    "\n",
    "> Los datos pueden ser cargados en Python de la siguiente manera:\n",
    "```python\n",
    "import pandas as pd\n",
    "df = pd.read_csv(\"https://drive.google.com/uc?id=1o6fzmIZD_AvAr-MCNhoYTRRLd9XmpxjS\")\n",
    "```\n",
    "De todas formas puede descargarlos directamente a través del siguiente link: __[datos](https://drive.google.com/file/d/1o6fzmIZD_AvAr-MCNhoYTRRLd9XmpxjS/view?usp=sharing)__\n",
    "\n"
   ]
  },
  {
   "cell_type": "markdown",
   "metadata": {
    "id": "OD9d4ZTPMuzS"
   },
   "source": [
    "\n",
    "# Actividades\n",
    "\n",
    "\n",
    "**Importante**: Para los análisis cuantitativos recuerde utilizar una precisión decimal más que los datos, sino su respuesta se considerará imprecisa y **podría** tener puntaje 0. Cualquier otra decisión relativa al manejo de datos debe ser correctamente indicada.\n",
    "\n",
    "> a) Describa brevemente la variable de interés usando un histograma. Explique cómo determinó el número de \"bins\" para agrupar las observaciones (*sería ideal que experimente para decidir este valor*). Agregue como referencia la información de los ingresos mínimos. ¿Qué puede concluir? ¿Cuál es el porcentaje de datos que tienen ingreso mayor al ingreso mínimo de 2020? \n",
    "\n",
    "> b) Describa la variable de interés usando 2 medidas de tendencia (media y mediana muestrales), y 3 medidas de dispersión (líbremente a escoger). ¿Qué información aporta cada estadística? \n",
    "\n",
    "> c) ¿Observa algún tipo de sesgo en el histograma obtenido en a)? ¿Qué información entrega esta característica de los datos? Determine si un boxplot confirma su observación inicial. Calcule ahora el estimador numérico clásico y comente. ¿Qué método le parece más robusto para evaluar la presencia de sesgo?\n",
    "\n",
    "> d) Compare a través de boxplots los ingresos de las personas en base a los trabajos que desempeñan. Utilice sólo los 5 trabajos más frecuentes en la muestra y describa con claridad las diferencias observadas en términos de: tendencia, dispersión, sesgo y presencia de outliers. A nivel exploratorio, ¿Existe evidencia suficiente para concluir que algún trabajo es mejor pagado que otro? Agregue al gráfico la información de los ingresos mínimos de 2020 para enriquecer su análisis.\n",
    " \n",
    ">> *Para seleccionar los datos que sean de un trabajo en concreto puede utilizar*\n",
    "```python\n",
    "df_profesor = df[df[\"Primary Job Title\"] ==\"Professor\"]\n",
    "```\n",
    "\n",
    "> e) Grafique cómo han ido cambiando las dos medidas de tendencia centrales calculadas en a) a medida que han pasado los años, desde 2009 hasta 2020. ¿Han aumentado los salarios a través de los años en la UVM? Utilice ahora lo implementado en d) para estudiar la evolución de los salarios usando boxplots. ¿Qué información nueva puede obtener? Finalmente, analice cómo ha variado el porcentaje de gente con sueldo menor al ingreso mínimo a través del tiempo. ¿Ha disminuido? Comente.\n",
    "\n",
    "> f) Analice cómo han ido cambiando la media y la mediana de los salarios para los siguientes 3 puestos de trabajo en la Universidad: *Assistant Professor, Professor, Associate Dean*. Compare. ¿A qué se pueden deber las diferencias?\n",
    "\n",
    "> g)  ¿Cómo ha ido variando la frecuencia absoluta y relativa de cada tipo de empleo a través de los años? *Utilice solo los 5 trabajos más frecuentes en la muestra* ¿Tiene sentido la variación con los análisis realizados en esta actividad?\n",
    "\n",
    "---\n",
    ">> **Atención**: cuando no se habla de salarios de un año específico use los datos de **todos los años** disponibles.\n"
   ]
  }
 ],
 "metadata": {
  "colab": {
   "collapsed_sections": [],
   "name": "[INF-280 2021-2]T1-Eval-PAUTA.ipynb",
   "provenance": [],
   "toc_visible": true
  },
  "kernelspec": {
   "display_name": "Python 3",
   "name": "python3"
  },
  "toc": {
   "base_numbering": 1,
   "nav_menu": {},
   "number_sections": true,
   "sideBar": false,
   "skip_h1_title": true,
   "title_cell": "Table of Contents",
   "title_sidebar": "Contents",
   "toc_cell": false,
   "toc_position": {},
   "toc_section_display": true,
   "toc_window_display": false
  }
 },
 "nbformat": 4,
 "nbformat_minor": 1
}
