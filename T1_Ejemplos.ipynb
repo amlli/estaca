{
  "nbformat": 4,
  "nbformat_minor": 0,
  "metadata": {
    "colab": {
      "name": "[INF-280]T1_Ejemplos.ipynb",
      "provenance": [],
      "collapsed_sections": []
    },
    "kernelspec": {
      "name": "python3",
      "display_name": "Python 3"
    },
    "widgets": {
      "application/vnd.jupyter.widget-state+json": {
        "e19e0d0742ec422aa20515bf757669d1": {
          "model_module": "@jupyter-widgets/controls",
          "model_name": "VBoxModel",
          "model_module_version": "1.5.0",
          "state": {
            "_view_name": "VBoxView",
            "_dom_classes": [
              "widget-interact"
            ],
            "_model_name": "VBoxModel",
            "_view_module": "@jupyter-widgets/controls",
            "_model_module_version": "1.5.0",
            "_view_count": null,
            "_view_module_version": "1.5.0",
            "box_style": "",
            "layout": "IPY_MODEL_1c2f812fe086470ba4b6ddc3f5d4bb9b",
            "_model_module": "@jupyter-widgets/controls",
            "children": [
              "IPY_MODEL_017237d453b1431589e4647eba7def70",
              "IPY_MODEL_8ad99d3b13a846e8ae96a2ef4abcdea8"
            ]
          }
        },
        "1c2f812fe086470ba4b6ddc3f5d4bb9b": {
          "model_module": "@jupyter-widgets/base",
          "model_name": "LayoutModel",
          "model_module_version": "1.2.0",
          "state": {
            "_view_name": "LayoutView",
            "grid_template_rows": null,
            "right": null,
            "justify_content": null,
            "_view_module": "@jupyter-widgets/base",
            "overflow": null,
            "_model_module_version": "1.2.0",
            "_view_count": null,
            "flex_flow": null,
            "width": null,
            "min_width": null,
            "border": null,
            "align_items": null,
            "bottom": null,
            "_model_module": "@jupyter-widgets/base",
            "top": null,
            "grid_column": null,
            "overflow_y": null,
            "overflow_x": null,
            "grid_auto_flow": null,
            "grid_area": null,
            "grid_template_columns": null,
            "flex": null,
            "_model_name": "LayoutModel",
            "justify_items": null,
            "grid_row": null,
            "max_height": null,
            "align_content": null,
            "visibility": null,
            "align_self": null,
            "height": null,
            "min_height": null,
            "padding": null,
            "grid_auto_rows": null,
            "grid_gap": null,
            "max_width": null,
            "order": null,
            "_view_module_version": "1.2.0",
            "grid_template_areas": null,
            "object_position": null,
            "object_fit": null,
            "grid_auto_columns": null,
            "margin": null,
            "display": null,
            "left": null
          }
        },
        "017237d453b1431589e4647eba7def70": {
          "model_module": "@jupyter-widgets/controls",
          "model_name": "IntSliderModel",
          "model_module_version": "1.5.0",
          "state": {
            "_view_name": "IntSliderView",
            "style": "IPY_MODEL_0b435ae4a03a4e1ab8b6469dbfa9ecd4",
            "_dom_classes": [],
            "description": "n",
            "step": 1,
            "_model_name": "IntSliderModel",
            "orientation": "horizontal",
            "max": 1000,
            "_view_module": "@jupyter-widgets/controls",
            "_model_module_version": "1.5.0",
            "value": 500,
            "_view_count": null,
            "disabled": false,
            "_view_module_version": "1.5.0",
            "min": 1,
            "continuous_update": true,
            "readout_format": "d",
            "description_tooltip": null,
            "readout": true,
            "_model_module": "@jupyter-widgets/controls",
            "layout": "IPY_MODEL_e31c50cfc1f2448098eea67356ac1edb"
          }
        },
        "8ad99d3b13a846e8ae96a2ef4abcdea8": {
          "model_module": "@jupyter-widgets/output",
          "model_name": "OutputModel",
          "model_module_version": "1.0.0",
          "state": {
            "_view_name": "OutputView",
            "msg_id": "",
            "_dom_classes": [],
            "_model_name": "OutputModel",
            "outputs": [
              {
                "output_type": "stream",
                "text": [
                  "Media muestral 8.043318860121417\n",
                  "Diferencia a media poblacional -0.04309865483997655\n"
                ],
                "name": "stdout"
              },
              {
                "output_type": "display_data",
                "data": {
                  "image/png": "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\n",
                  "text/plain": [
                    "<Figure size 432x288 with 1 Axes>"
                  ]
                },
                "metadata": {
                  "needs_background": "light"
                }
              }
            ],
            "_view_module": "@jupyter-widgets/output",
            "_model_module_version": "1.0.0",
            "_view_count": null,
            "_view_module_version": "1.0.0",
            "layout": "IPY_MODEL_74b18289b52b4b33b46cdf1cfa24c64e",
            "_model_module": "@jupyter-widgets/output"
          }
        },
        "0b435ae4a03a4e1ab8b6469dbfa9ecd4": {
          "model_module": "@jupyter-widgets/controls",
          "model_name": "SliderStyleModel",
          "model_module_version": "1.5.0",
          "state": {
            "_view_name": "StyleView",
            "handle_color": null,
            "_model_name": "SliderStyleModel",
            "description_width": "",
            "_view_module": "@jupyter-widgets/base",
            "_model_module_version": "1.5.0",
            "_view_count": null,
            "_view_module_version": "1.2.0",
            "_model_module": "@jupyter-widgets/controls"
          }
        },
        "e31c50cfc1f2448098eea67356ac1edb": {
          "model_module": "@jupyter-widgets/base",
          "model_name": "LayoutModel",
          "model_module_version": "1.2.0",
          "state": {
            "_view_name": "LayoutView",
            "grid_template_rows": null,
            "right": null,
            "justify_content": null,
            "_view_module": "@jupyter-widgets/base",
            "overflow": null,
            "_model_module_version": "1.2.0",
            "_view_count": null,
            "flex_flow": null,
            "width": null,
            "min_width": null,
            "border": null,
            "align_items": null,
            "bottom": null,
            "_model_module": "@jupyter-widgets/base",
            "top": null,
            "grid_column": null,
            "overflow_y": null,
            "overflow_x": null,
            "grid_auto_flow": null,
            "grid_area": null,
            "grid_template_columns": null,
            "flex": null,
            "_model_name": "LayoutModel",
            "justify_items": null,
            "grid_row": null,
            "max_height": null,
            "align_content": null,
            "visibility": null,
            "align_self": null,
            "height": null,
            "min_height": null,
            "padding": null,
            "grid_auto_rows": null,
            "grid_gap": null,
            "max_width": null,
            "order": null,
            "_view_module_version": "1.2.0",
            "grid_template_areas": null,
            "object_position": null,
            "object_fit": null,
            "grid_auto_columns": null,
            "margin": null,
            "display": null,
            "left": null
          }
        },
        "74b18289b52b4b33b46cdf1cfa24c64e": {
          "model_module": "@jupyter-widgets/base",
          "model_name": "LayoutModel",
          "model_module_version": "1.2.0",
          "state": {
            "_view_name": "LayoutView",
            "grid_template_rows": null,
            "right": null,
            "justify_content": null,
            "_view_module": "@jupyter-widgets/base",
            "overflow": null,
            "_model_module_version": "1.2.0",
            "_view_count": null,
            "flex_flow": null,
            "width": null,
            "min_width": null,
            "border": null,
            "align_items": null,
            "bottom": null,
            "_model_module": "@jupyter-widgets/base",
            "top": null,
            "grid_column": null,
            "overflow_y": null,
            "overflow_x": null,
            "grid_auto_flow": null,
            "grid_area": null,
            "grid_template_columns": null,
            "flex": null,
            "_model_name": "LayoutModel",
            "justify_items": null,
            "grid_row": null,
            "max_height": null,
            "align_content": null,
            "visibility": null,
            "align_self": null,
            "height": null,
            "min_height": null,
            "padding": null,
            "grid_auto_rows": null,
            "grid_gap": null,
            "max_width": null,
            "order": null,
            "_view_module_version": "1.2.0",
            "grid_template_areas": null,
            "object_position": null,
            "object_fit": null,
            "grid_auto_columns": null,
            "margin": null,
            "display": null,
            "left": null
          }
        },
        "66be4a53a3184a37a8536d0c5f4507f5": {
          "model_module": "@jupyter-widgets/controls",
          "model_name": "VBoxModel",
          "model_module_version": "1.5.0",
          "state": {
            "_view_name": "VBoxView",
            "_dom_classes": [
              "widget-interact"
            ],
            "_model_name": "VBoxModel",
            "_view_module": "@jupyter-widgets/controls",
            "_model_module_version": "1.5.0",
            "_view_count": null,
            "_view_module_version": "1.5.0",
            "box_style": "",
            "layout": "IPY_MODEL_47c9942710e248b2898747b2b1f92040",
            "_model_module": "@jupyter-widgets/controls",
            "children": [
              "IPY_MODEL_c10e54197d974f89a15aebeab4592146",
              "IPY_MODEL_f4a3178402224907aa96bf21598fbf7c",
              "IPY_MODEL_8204f8df52244916ad7727db55f4e6a3"
            ]
          }
        },
        "47c9942710e248b2898747b2b1f92040": {
          "model_module": "@jupyter-widgets/base",
          "model_name": "LayoutModel",
          "model_module_version": "1.2.0",
          "state": {
            "_view_name": "LayoutView",
            "grid_template_rows": null,
            "right": null,
            "justify_content": null,
            "_view_module": "@jupyter-widgets/base",
            "overflow": null,
            "_model_module_version": "1.2.0",
            "_view_count": null,
            "flex_flow": null,
            "width": null,
            "min_width": null,
            "border": null,
            "align_items": null,
            "bottom": null,
            "_model_module": "@jupyter-widgets/base",
            "top": null,
            "grid_column": null,
            "overflow_y": null,
            "overflow_x": null,
            "grid_auto_flow": null,
            "grid_area": null,
            "grid_template_columns": null,
            "flex": null,
            "_model_name": "LayoutModel",
            "justify_items": null,
            "grid_row": null,
            "max_height": null,
            "align_content": null,
            "visibility": null,
            "align_self": null,
            "height": null,
            "min_height": null,
            "padding": null,
            "grid_auto_rows": null,
            "grid_gap": null,
            "max_width": null,
            "order": null,
            "_view_module_version": "1.2.0",
            "grid_template_areas": null,
            "object_position": null,
            "object_fit": null,
            "grid_auto_columns": null,
            "margin": null,
            "display": null,
            "left": null
          }
        },
        "c10e54197d974f89a15aebeab4592146": {
          "model_module": "@jupyter-widgets/controls",
          "model_name": "IntSliderModel",
          "model_module_version": "1.5.0",
          "state": {
            "_view_name": "IntSliderView",
            "style": "IPY_MODEL_f50e20d3084843258f8023c2bcc82b2b",
            "_dom_classes": [],
            "description": "offset",
            "step": 1,
            "_model_name": "IntSliderModel",
            "orientation": "horizontal",
            "max": 20,
            "_view_module": "@jupyter-widgets/controls",
            "_model_module_version": "1.5.0",
            "value": 15,
            "_view_count": null,
            "disabled": false,
            "_view_module_version": "1.5.0",
            "min": 1,
            "continuous_update": true,
            "readout_format": "d",
            "description_tooltip": null,
            "readout": true,
            "_model_module": "@jupyter-widgets/controls",
            "layout": "IPY_MODEL_0b1e50da819a46db9cd1019d578d6088"
          }
        },
        "f4a3178402224907aa96bf21598fbf7c": {
          "model_module": "@jupyter-widgets/controls",
          "model_name": "FloatSliderModel",
          "model_module_version": "1.5.0",
          "state": {
            "_view_name": "FloatSliderView",
            "style": "IPY_MODEL_97ee904a511040b8bb002bdc69836f99",
            "_dom_classes": [],
            "description": "p",
            "step": 0.05,
            "_model_name": "FloatSliderModel",
            "orientation": "horizontal",
            "max": 0.25,
            "_view_module": "@jupyter-widgets/controls",
            "_model_module_version": "1.5.0",
            "value": 0.1,
            "_view_count": null,
            "disabled": false,
            "_view_module_version": "1.5.0",
            "min": 0,
            "continuous_update": true,
            "readout_format": ".2f",
            "description_tooltip": null,
            "readout": true,
            "_model_module": "@jupyter-widgets/controls",
            "layout": "IPY_MODEL_8f88d1269ce5450c922de3d9292ab63e"
          }
        },
        "8204f8df52244916ad7727db55f4e6a3": {
          "model_module": "@jupyter-widgets/output",
          "model_name": "OutputModel",
          "model_module_version": "1.0.0",
          "state": {
            "_view_name": "OutputView",
            "msg_id": "",
            "_dom_classes": [],
            "_model_name": "OutputModel",
            "outputs": [
              {
                "output_type": "display_data",
                "data": {
                  "image/png": "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\n",
                  "text/plain": [
                    "<Figure size 1080x360 with 1 Axes>"
                  ]
                },
                "metadata": {}
              },
              {
                "output_type": "stream",
                "text": [
                  "Desviación estándar = 4.39\n",
                  "Desviación estándar = 4.39\n"
                ],
                "name": "stdout"
              }
            ],
            "_view_module": "@jupyter-widgets/output",
            "_model_module_version": "1.0.0",
            "_view_count": null,
            "_view_module_version": "1.0.0",
            "layout": "IPY_MODEL_08430e97d3984b1084a876da9ebc9a18",
            "_model_module": "@jupyter-widgets/output"
          }
        },
        "f50e20d3084843258f8023c2bcc82b2b": {
          "model_module": "@jupyter-widgets/controls",
          "model_name": "SliderStyleModel",
          "model_module_version": "1.5.0",
          "state": {
            "_view_name": "StyleView",
            "handle_color": null,
            "_model_name": "SliderStyleModel",
            "description_width": "",
            "_view_module": "@jupyter-widgets/base",
            "_model_module_version": "1.5.0",
            "_view_count": null,
            "_view_module_version": "1.2.0",
            "_model_module": "@jupyter-widgets/controls"
          }
        },
        "0b1e50da819a46db9cd1019d578d6088": {
          "model_module": "@jupyter-widgets/base",
          "model_name": "LayoutModel",
          "model_module_version": "1.2.0",
          "state": {
            "_view_name": "LayoutView",
            "grid_template_rows": null,
            "right": null,
            "justify_content": null,
            "_view_module": "@jupyter-widgets/base",
            "overflow": null,
            "_model_module_version": "1.2.0",
            "_view_count": null,
            "flex_flow": null,
            "width": null,
            "min_width": null,
            "border": null,
            "align_items": null,
            "bottom": null,
            "_model_module": "@jupyter-widgets/base",
            "top": null,
            "grid_column": null,
            "overflow_y": null,
            "overflow_x": null,
            "grid_auto_flow": null,
            "grid_area": null,
            "grid_template_columns": null,
            "flex": null,
            "_model_name": "LayoutModel",
            "justify_items": null,
            "grid_row": null,
            "max_height": null,
            "align_content": null,
            "visibility": null,
            "align_self": null,
            "height": null,
            "min_height": null,
            "padding": null,
            "grid_auto_rows": null,
            "grid_gap": null,
            "max_width": null,
            "order": null,
            "_view_module_version": "1.2.0",
            "grid_template_areas": null,
            "object_position": null,
            "object_fit": null,
            "grid_auto_columns": null,
            "margin": null,
            "display": null,
            "left": null
          }
        },
        "97ee904a511040b8bb002bdc69836f99": {
          "model_module": "@jupyter-widgets/controls",
          "model_name": "SliderStyleModel",
          "model_module_version": "1.5.0",
          "state": {
            "_view_name": "StyleView",
            "handle_color": null,
            "_model_name": "SliderStyleModel",
            "description_width": "",
            "_view_module": "@jupyter-widgets/base",
            "_model_module_version": "1.5.0",
            "_view_count": null,
            "_view_module_version": "1.2.0",
            "_model_module": "@jupyter-widgets/controls"
          }
        },
        "8f88d1269ce5450c922de3d9292ab63e": {
          "model_module": "@jupyter-widgets/base",
          "model_name": "LayoutModel",
          "model_module_version": "1.2.0",
          "state": {
            "_view_name": "LayoutView",
            "grid_template_rows": null,
            "right": null,
            "justify_content": null,
            "_view_module": "@jupyter-widgets/base",
            "overflow": null,
            "_model_module_version": "1.2.0",
            "_view_count": null,
            "flex_flow": null,
            "width": null,
            "min_width": null,
            "border": null,
            "align_items": null,
            "bottom": null,
            "_model_module": "@jupyter-widgets/base",
            "top": null,
            "grid_column": null,
            "overflow_y": null,
            "overflow_x": null,
            "grid_auto_flow": null,
            "grid_area": null,
            "grid_template_columns": null,
            "flex": null,
            "_model_name": "LayoutModel",
            "justify_items": null,
            "grid_row": null,
            "max_height": null,
            "align_content": null,
            "visibility": null,
            "align_self": null,
            "height": null,
            "min_height": null,
            "padding": null,
            "grid_auto_rows": null,
            "grid_gap": null,
            "max_width": null,
            "order": null,
            "_view_module_version": "1.2.0",
            "grid_template_areas": null,
            "object_position": null,
            "object_fit": null,
            "grid_auto_columns": null,
            "margin": null,
            "display": null,
            "left": null
          }
        },
        "08430e97d3984b1084a876da9ebc9a18": {
          "model_module": "@jupyter-widgets/base",
          "model_name": "LayoutModel",
          "model_module_version": "1.2.0",
          "state": {
            "_view_name": "LayoutView",
            "grid_template_rows": null,
            "right": null,
            "justify_content": null,
            "_view_module": "@jupyter-widgets/base",
            "overflow": null,
            "_model_module_version": "1.2.0",
            "_view_count": null,
            "flex_flow": null,
            "width": null,
            "min_width": null,
            "border": null,
            "align_items": null,
            "bottom": null,
            "_model_module": "@jupyter-widgets/base",
            "top": null,
            "grid_column": null,
            "overflow_y": null,
            "overflow_x": null,
            "grid_auto_flow": null,
            "grid_area": null,
            "grid_template_columns": null,
            "flex": null,
            "_model_name": "LayoutModel",
            "justify_items": null,
            "grid_row": null,
            "max_height": null,
            "align_content": null,
            "visibility": null,
            "align_self": null,
            "height": null,
            "min_height": null,
            "padding": null,
            "grid_auto_rows": null,
            "grid_gap": null,
            "max_width": null,
            "order": null,
            "_view_module_version": "1.2.0",
            "grid_template_areas": null,
            "object_position": null,
            "object_fit": null,
            "grid_auto_columns": null,
            "margin": null,
            "display": null,
            "left": null
          }
        }
      }
    }
  },
  "cells": [
    {
      "cell_type": "markdown",
      "metadata": {
        "id": "iOlgIjuYkWJH"
      },
      "source": [
        "## Ejercicios Tema 1 - Análisis exploratorio de Datos\n",
        "### INF-280\n"
      ]
    },
    {
      "cell_type": "code",
      "metadata": {
        "id": "qCFbG7e1kWV6"
      },
      "source": [
        "\n",
        "### Medidas de tendencia\n",
        "def media_muestral(datos):\n",
        "  n = len(datos)\n",
        "\n",
        "  suma = 0.0\n",
        "  for dato in datos:\n",
        "    suma += dato\n",
        "  return suma/n\n",
        "\n",
        "def mediana_muestral(datos):\n",
        "  n = len(datos)\n",
        "  \n",
        "  if n%2 == 0: #par\n",
        "    mitad = int(n/2)\n",
        "    mitad = mitad -1 #ya que python maneja las posicion de listas desde 0,1,2,3...\n",
        "    return (datos[mitad]+ datos[mitad+1] ) /2\n",
        "  else: #impar\n",
        "    mitad = (n+1)/2\n",
        "    mitad = int(mitad) -1 #ya que python maneja las posicion de listas desde 0,1,2,3...\n",
        "    return datos[mitad] \n",
        "\n",
        "### Medidas de dispersion\n",
        "def varianza_muestral(datos):\n",
        "  media = media_muestral(datos)\n",
        "  n = len(datos)\n",
        "\n",
        "  suma =0.0\n",
        "  for dato in datos:\n",
        "    suma += (dato-media)**2\n",
        "  return suma/(n-1)\n",
        "\n",
        "def desviacionest_muestral(datos):\n",
        "  return varianza_muestral(datos)**(0.5)\n",
        "\n"
      ],
      "execution_count": null,
      "outputs": []
    },
    {
      "cell_type": "markdown",
      "metadata": {
        "id": "fnRYsbg1FSc9"
      },
      "source": [
        "Calcule el sesgo de las siguientes muestras"
      ]
    },
    {
      "cell_type": "code",
      "metadata": {
        "id": "Z9GAgzmamCa4",
        "colab": {
          "base_uri": "https://localhost:8080/"
        },
        "outputId": "f14fa65e-6a7c-44aa-9942-b97a4f1af511"
      },
      "source": [
        "S1 = [2,3,5,7,11,13,17,19,23]\n",
        "\n",
        "print(\"Media muestral = %.1f\"%media_muestral(S1))\n",
        "print(\"Mediana muestral = %.1f\"%mediana_muestral(S1))\n",
        "print(\"Sesgo = %.1f\"%(media_muestral(S1)-mediana_muestral(S1)))"
      ],
      "execution_count": null,
      "outputs": [
        {
          "output_type": "stream",
          "text": [
            "Media muestral = 11.1\n",
            "Mediana muestral = 11.0\n",
            "Sesgo = 0.1\n"
          ],
          "name": "stdout"
        }
      ]
    },
    {
      "cell_type": "code",
      "metadata": {
        "id": "587juyAQEbwH",
        "colab": {
          "base_uri": "https://localhost:8080/"
        },
        "outputId": "aab1d774-a35d-4f99-ee82-bd4371610310"
      },
      "source": [
        "from numpy import mean, median, var, std, max, min\n",
        "#corroborar con medidas implementadas en librerías\n",
        "print(\"Media muestral =\",mean(S1))\n",
        "print(\"Mediana muestral =\",median(S1))"
      ],
      "execution_count": null,
      "outputs": [
        {
          "output_type": "stream",
          "text": [
            "Media muestral = 11.11111111111111\n",
            "Mediana muestral = 11.0\n"
          ],
          "name": "stdout"
        }
      ]
    },
    {
      "cell_type": "code",
      "metadata": {
        "id": "N6BSLTzFl_rV",
        "colab": {
          "base_uri": "https://localhost:8080/"
        },
        "outputId": "b1bca49c-fede-4657-8223-61d9aa478d8a"
      },
      "source": [
        "S2 = [2, 3, 5, 7, 11, 13, 17, 19, 23, 29, 31, 37]\n",
        "print(\"Media muestral = %.1f\"%media_muestral(S2))\n",
        "print(\"Mediana muestral = %.1f\"%mediana_muestral(S2))\n",
        "print(\"Sesgo = %.1f\"%(media_muestral(S1)-mediana_muestral(S2)))"
      ],
      "execution_count": null,
      "outputs": [
        {
          "output_type": "stream",
          "text": [
            "Media muestral = 16.4\n",
            "Mediana muestral = 15.0\n",
            "Sesgo = -3.9\n"
          ],
          "name": "stdout"
        }
      ]
    },
    {
      "cell_type": "markdown",
      "metadata": {
        "id": "shLtX7nwFh_e"
      },
      "source": [
        "Grafique boxplot e histograma de la muestra S2 "
      ]
    },
    {
      "cell_type": "code",
      "metadata": {
        "id": "wSwe6TloTqCS"
      },
      "source": [
        "import matplotlib.pyplot as plt"
      ],
      "execution_count": null,
      "outputs": []
    },
    {
      "cell_type": "code",
      "metadata": {
        "id": "ZqZcuN_DnBSd",
        "colab": {
          "base_uri": "https://localhost:8080/",
          "height": 1000
        },
        "outputId": "8eb98ec9-416a-4611-a955-516e2129d023"
      },
      "source": [
        "plt.boxplot(S2)\n",
        "plt.show()\n",
        "\n",
        "K = 10\n",
        "plt.hist(S2, bins=K, density=False) #frecuencia absoluta\n",
        "plt.show()\n",
        "\n",
        "\n",
        "plt.hist(S2, bins=K, density=True) #frecuenca relativa\n",
        "plt.show()\n",
        "\n",
        "#ubicar media y mediana\n",
        "plt.hist(S2, bins=K, density=False) #frecuenca relativa\n",
        "plt.vlines(media_muestral(S2), 0, 5, label=\"Media\", colors='r')\n",
        "plt.vlines(mediana_muestral(S2), 0, 5, label=\"Mediana\", colors='b')\n",
        "plt.legend()\n",
        "plt.show()"
      ],
      "execution_count": null,
      "outputs": [
        {
          "output_type": "display_data",
          "data": {
            "image/png": "[encoded data removed]",
            "text/plain": [
              "<Figure size 432x288 with 1 Axes>"
            ]
          },
          "metadata": {
            "tags": [],
            "needs_background": "light"
          }
        },
        {
          "output_type": "display_data",
          "data": {
            "image/png": "[encoded data removed]",
            "text/plain": [
              "<Figure size 432x288 with 1 Axes>"
            ]
          },
          "metadata": {
            "tags": [],
            "needs_background": "light"
          }
        },
        {
          "output_type": "display_data",
          "data": {
            "image/png": "[encoded data removed]",
            "text/plain": [
              "<Figure size 432x288 with 1 Axes>"
            ]
          },
          "metadata": {
            "tags": [],
            "needs_background": "light"
          }
        },
        {
          "output_type": "display_data",
          "data": {
            "image/png": "[encoded data removed]",
            "text/plain": [
              "<Figure size 432x288 with 1 Axes>"
            ]
          },
          "metadata": {
            "tags": [],
            "needs_background": "light"
          }
        }
      ]
    },
    {
      "cell_type": "code",
      "metadata": {
        "id": "5X2So-9HnUmP",
        "colab": {
          "base_uri": "https://localhost:8080/",
          "height": 517
        },
        "outputId": "ad4b8562-c62e-42e5-a7a4-eb6059aa6a56"
      },
      "source": [
        "plt.hist(S2, bins=3, density=True) #frecuenca relativa\n",
        "plt.show()\n",
        "\n",
        "plt.hist(S2, bins=20, density=True) #frecuenca relativa\n",
        "plt.show()"
      ],
      "execution_count": null,
      "outputs": [
        {
          "output_type": "display_data",
          "data": {
            "image/png": "[encoded data removed]",
            "text/plain": [
              "<Figure size 432x288 with 1 Axes>"
            ]
          },
          "metadata": {
            "tags": []
          }
        },
        {
          "output_type": "display_data",
          "data": {
            "image/png": "[encoded data removed]",
            "text/plain": [
              "<Figure size 432x288 with 1 Axes>"
            ]
          },
          "metadata": {
            "tags": []
          }
        }
      ]
    },
    {
      "cell_type": "code",
      "metadata": {
        "id": "mKTSrBjbn2Du",
        "colab": {
          "base_uri": "https://localhost:8080/",
          "height": 358
        },
        "outputId": "ec15afd4-b84f-454b-897e-20394d827616"
      },
      "source": [
        "plt.boxplot([S1,S2])\n",
        "plt.xticks([1,2],[\"Muestra 1\", \"Muestra 2\"])\n",
        "plt.show()\n",
        "\n",
        "print(\"varianza muestral S1 = %.1f\"%varianza_muestral(S1))\n",
        "print(\"varianza muestral S2 = %.1f\"%varianza_muestral(S2))"
      ],
      "execution_count": null,
      "outputs": [
        {
          "output_type": "stream",
          "text": [
            "/usr/local/lib/python3.7/dist-packages/numpy/core/_asarray.py:83: VisibleDeprecationWarning: Creating an ndarray from ragged nested sequences (which is a list-or-tuple of lists-or-tuples-or ndarrays with different lengths or shapes) is deprecated. If you meant to do this, you must specify 'dtype=object' when creating the ndarray\n",
            "  return array(a, dtype, copy=False, order=order)\n"
          ],
          "name": "stderr"
        },
        {
          "output_type": "display_data",
          "data": {
            "image/png": "[encoded data removed]",
            "text/plain": [
              "<Figure size 432x288 with 1 Axes>"
            ]
          },
          "metadata": {
            "needs_background": "light"
          }
        },
        {
          "output_type": "stream",
          "text": [
            "varianza muestral S1 = 55.6\n",
            "varianza muestral S2 = 135.7\n"
          ],
          "name": "stdout"
        }
      ]
    },
    {
      "cell_type": "code",
      "metadata": {
        "id": "J8zlIFYtvJhp",
        "colab": {
          "base_uri": "https://localhost:8080/",
          "height": 265
        },
        "outputId": "16a903a1-ca6a-4dae-fe35-9a04fd7c8b8d"
      },
      "source": [
        "plt.boxplot([S1,S2])\n",
        "plt.xticks([1,2],[\"Muestra 1\", \"Muestra 2\"])\n",
        "\n",
        "plt.hlines(mediana_muestral(S2) , 0.6, 2.4, color='red')\n",
        "plt.show()"
      ],
      "execution_count": null,
      "outputs": [
        {
          "output_type": "display_data",
          "data": {
            "image/png": "[encoded data removed]",
            "text/plain": [
              "<Figure size 432x288 with 1 Axes>"
            ]
          },
          "metadata": {
            "tags": [],
            "needs_background": "light"
          }
        }
      ]
    },
    {
      "cell_type": "markdown",
      "metadata": {
        "id": "eIdmmu-RvqGR"
      },
      "source": [
        "Bastante útil para comparar las muestras, además que podemos trazar una linea para verificar hasta donde llega la mediana de la muestra 2 sobre los cuartiles de la muestra 1\n",
        "\n"
      ]
    },
    {
      "cell_type": "code",
      "metadata": {
        "id": "nX9nCEVFnt9c",
        "colab": {
          "base_uri": "https://localhost:8080/",
          "height": 513
        },
        "outputId": "fbb021c0-0006-48a2-923e-1eea70b26909"
      },
      "source": [
        "plt.hist(S1, bins=6, alpha=0.8, label=\"Muestra 1\")\n",
        "plt.hist(S2, bins=6, alpha=0.4, label=\"Muestra 2\")\n",
        "plt.legend()\n",
        "plt.show()\n",
        "\n",
        "\n",
        "plt.hist([S1,S2], bins=6, alpha=0.8, label=[\"Muestra 1\",\"Muestra 2\"]) #diferencia con anterior? mismo Rango para ambos => mismas clases definidas\n",
        "plt.legend()\n",
        "plt.show()"
      ],
      "execution_count": null,
      "outputs": [
        {
          "output_type": "display_data",
          "data": {
            "image/png": "[encoded data removed]",
            "text/plain": [
              "<Figure size 432x288 with 1 Axes>"
            ]
          },
          "metadata": {
            "tags": [],
            "needs_background": "light"
          }
        },
        {
          "output_type": "display_data",
          "data": {
            "image/png": "[encoded data removed]",
            "text/plain": [
              "<Figure size 432x288 with 1 Axes>"
            ]
          },
          "metadata": {
            "tags": [],
            "needs_background": "light"
          }
        }
      ]
    },
    {
      "cell_type": "markdown",
      "metadata": {
        "id": "iEr8uSIDpP1O"
      },
      "source": [
        "Histogramas son mucho más dificiles de comparar entre sí, debido a las magnitudes de los datos y que es necesario observar por clase"
      ]
    },
    {
      "cell_type": "code",
      "metadata": {
        "id": "X6sn2AAe5h3z",
        "colab": {
          "base_uri": "https://localhost:8080/",
          "height": 53
        },
        "outputId": "168de0ea-06cb-4148-ef9a-51cd73a0e159"
      },
      "source": [
        "## otra librería bastante útil para estadística descriptiva y visualización: seaborn\n",
        "import seaborn as sns\n",
        "import matplotlib.pyplot as plt"
      ],
      "execution_count": null,
      "outputs": [
        {
          "output_type": "stream",
          "text": [
            "/usr/local/lib/python3.6/dist-packages/statsmodels/tools/_testing.py:19: FutureWarning: pandas.util.testing is deprecated. Use the functions in the public API at pandas.testing instead.\n",
            "  import pandas.util.testing as tm\n"
          ],
          "name": "stderr"
        }
      ]
    },
    {
      "cell_type": "code",
      "metadata": {
        "id": "rNfCjAca6_Mx",
        "colab": {
          "base_uri": "https://localhost:8080/",
          "height": 773
        },
        "outputId": "f5c7a3d7-7507-4508-d4b7-1455d5912c7a"
      },
      "source": [
        "sns.distplot(S1, bins=6, norm_hist=True, kde=False) #norm_hist indica si usar frecuencia relativa\n",
        "plt.show()\n",
        "sns.distplot(S1, bins=6, norm_hist=True, kde=True) #kde indica si ajustar una curva por sobre el histograma\n",
        "plt.show()\n",
        "\n",
        "\n",
        "sns.distplot(S1, bins=6, norm_hist=True, kde=False, label=\"Muestra 1\") \n",
        "sns.distplot(S2, bins=6, norm_hist=True, kde=False, label=\"Muestra 2\")\n",
        "plt.legend()\n",
        "plt.show()"
      ],
      "execution_count": null,
      "outputs": [
        {
          "output_type": "display_data",
          "data": {
            "image/png": "[encoded data removed]",
            "text/plain": [
              "<Figure size 432x288 with 1 Axes>"
            ]
          },
          "metadata": {
            "tags": [],
            "needs_background": "light"
          }
        },
        {
          "output_type": "display_data",
          "data": {
            "image/png": "[encoded data removed]",
            "text/plain": [
              "<Figure size 432x288 with 1 Axes>"
            ]
          },
          "metadata": {
            "tags": [],
            "needs_background": "light"
          }
        },
        {
          "output_type": "display_data",
          "data": {
            "image/png": "[encoded data removed]",
            "text/plain": [
              "<Figure size 432x288 with 1 Axes>"
            ]
          },
          "metadata": {
            "tags": [],
            "needs_background": "light"
          }
        }
      ]
    },
    {
      "cell_type": "code",
      "metadata": {
        "id": "-v_KX9245pbK",
        "colab": {
          "base_uri": "https://localhost:8080/",
          "height": 761
        },
        "outputId": "3d8a868f-56d9-4588-b49b-3353ac1cc461"
      },
      "source": [
        "sns.boxplot(data = [S1,S2], whis=1.5 ) #mas herramientas\n",
        "plt.show()\n",
        "\n",
        "sns.boxplot(data = [S1,S2], whis=0.5 ) #mas herramientas\n",
        "plt.show()\n",
        "\n",
        "sns.boxplot(data = [S1,S2], whis=0.3 ) #mas herramientas\n",
        "plt.show()"
      ],
      "execution_count": null,
      "outputs": [
        {
          "output_type": "display_data",
          "data": {
            "image/png": "[encoded data removed]",
            "text/plain": [
              "<Figure size 432x288 with 1 Axes>"
            ]
          },
          "metadata": {
            "tags": [],
            "needs_background": "light"
          }
        },
        {
          "output_type": "display_data",
          "data": {
            "image/png": "[encoded data removed]",
            "text/plain": [
              "<Figure size 432x288 with 1 Axes>"
            ]
          },
          "metadata": {
            "tags": [],
            "needs_background": "light"
          }
        },
        {
          "output_type": "display_data",
          "data": {
            "image/png": "[encoded data removed]",
            "text/plain": [
              "<Figure size 432x288 with 1 Axes>"
            ]
          },
          "metadata": {
            "tags": [],
            "needs_background": "light"
          }
        }
      ]
    },
    {
      "cell_type": "markdown",
      "metadata": {
        "id": "JL85XETnsKOe"
      },
      "source": [
        "> Siendo los cuartiles: $Q_1 = 5$, $Q_2= 12$, $Q_3=15$, los valores más extremos: $-5$ y $35$; como el valor más pequeño y más alto respectivamente. Bosqueje un diagrama de caja (*boxplot*) de ello ¿Que ocurre si el valor más pequeño es igual al primer cuartil $Q_1$?"
      ]
    },
    {
      "cell_type": "code",
      "metadata": {
        "id": "L-26vLmCszzX",
        "colab": {
          "base_uri": "https://localhost:8080/",
          "height": 53
        },
        "outputId": "f6ca6930-c848-4069-fbd4-3db058a08fd8"
      },
      "source": [
        "Q1 = 5\n",
        "Q2 = 12\n",
        "Q3 = 15\n",
        "IQR = Q3-Q1\n",
        "Linf = Q1- 1.5*IQR\n",
        "Lsup = Q3+ 1.5*IQR\n",
        "print(\"Limite superior =\",Lsup)\n",
        "print(\"Limite inferior =\",Linf)"
      ],
      "execution_count": null,
      "outputs": [
        {
          "output_type": "stream",
          "text": [
            "Limite superior = 30.0\n",
            "Limite inferior = -10.0\n"
          ],
          "name": "stdout"
        }
      ]
    },
    {
      "cell_type": "code",
      "metadata": {
        "id": "eeDob6t8sOPG",
        "colab": {
          "base_uri": "https://localhost:8080/",
          "height": 265
        },
        "outputId": "905fa30c-4372-4f0b-8f3b-9af63f9d6e49"
      },
      "source": [
        "fig, ax = plt.subplots()\n",
        "boxes = [{\n",
        "        'whislo': -5,    # Bottom whisker position\n",
        "        'q1'    : Q1,    # First quartile (25th percentile)\n",
        "        'med'   : Q2,    # Median         (50th percentile)\n",
        "        'q3'    : Q3,    # Third quartile (75th percentile)\n",
        "        'whishi': 30,    # Top whisker position\n",
        "        'fliers': [35]        # Outliers\n",
        "    }]\n",
        "ax.bxp(boxes, showfliers=True)\n",
        "plt.show()"
      ],
      "execution_count": null,
      "outputs": [
        {
          "output_type": "display_data",
          "data": {
            "image/png": "[encoded data removed]",
            "text/plain": [
              "<Figure size 432x288 with 1 Axes>"
            ]
          },
          "metadata": {
            "tags": [],
            "needs_background": "light"
          }
        }
      ]
    },
    {
      "cell_type": "code",
      "metadata": {
        "id": "Q-Y6-3jwtcFd",
        "colab": {
          "base_uri": "https://localhost:8080/",
          "height": 265
        },
        "outputId": "615043ef-8b93-4f50-8e14-c59887ca09c9"
      },
      "source": [
        "fig, ax = plt.subplots()\n",
        "boxes = [\n",
        "    {\n",
        "        'whislo': Q1,    # Bottom whisker position\n",
        "        'q1'    : Q1,    # First quartile (25th percentile)\n",
        "        'med'   : Q2,    # Median         (50th percentile)\n",
        "        'q3'    : Q3,    # Third quartile (75th percentile)\n",
        "        'whishi': 30,    # Top whisker position\n",
        "        'fliers': [35]        # Outliers\n",
        "    }\n",
        "]\n",
        "ax.bxp(boxes, showfliers=True)\n",
        "plt.show()"
      ],
      "execution_count": null,
      "outputs": [
        {
          "output_type": "display_data",
          "data": {
            "image/png": "[encoded data removed]",
            "text/plain": [
              "<Figure size 432x288 with 1 Axes>"
            ]
          },
          "metadata": {
            "tags": []
          }
        }
      ]
    },
    {
      "cell_type": "markdown",
      "metadata": {
        "id": "PINeF63DtlHX"
      },
      "source": [
        "Es posible el boxplot anterior, en el único caso en que el número Q1 (1er cuartil) se repita un 25% de las veces."
      ]
    },
    {
      "cell_type": "markdown",
      "metadata": {
        "id": "55AfLuHguAHf"
      },
      "source": [
        "> Los siguientes diagramas tabla/hoja corresponden al número de libros leídos (anualmente) por estudiantes de reconocidas universidades de la ciudad.\n",
        "\n",
        "* Para la Universidad A  \n",
        "\n",
        "|Tallo|Hoja\n",
        "|---|---|\n",
        "|0| | \n",
        "|1|00035|\n",
        "|2|12446|\n",
        "|3|189|\n",
        "|4|01|\n",
        "\n",
        "\n",
        "* Para la Universidad B  \n",
        "\n",
        "|Tallo|Hoja\n",
        "|---|---|\n",
        "|0|7| \n",
        "|1|466|\n",
        "|2|1234|\n",
        "|3|6889|\n",
        "|4|28|\n",
        "|5||\n",
        "|6||\n",
        "|7|3|"
      ]
    },
    {
      "cell_type": "code",
      "metadata": {
        "id": "TrSm5573sQDG",
        "colab": {
          "base_uri": "https://localhost:8080/"
        },
        "outputId": "40a0010c-a1cb-400f-ab41-30d09aabf431"
      },
      "source": [
        "A = [10,10,10,13,15,21,22,24,24,25,31,38,39,40,41]\n",
        "B = [7,14,16,16,21,22,23,24,36,38,38,39,42,48,73]\n",
        "\n",
        "N_a = len(A)\n",
        "N_b = len(B)\n",
        "\n",
        "import math\n",
        "print(\"Regla raiz cuadrada\")\n",
        "print(\"K para A =\",math.ceil(math.sqrt(N_a)))\n",
        "print(\"K para B =\",math.ceil(math.sqrt(N_b)))\n",
        "\n",
        "print(\"Regla Sturges\")\n",
        "print(\"K para A =\",math.ceil(math.log(N_a, 2))+1)\n",
        "print(\"K para B =\",math.ceil(math.log(N_b, 2))+1)\n",
        "\n",
        "print(\"Regla Rice\")\n",
        "print(\"K para A =\",math.ceil(2* N_a**(1./3)))\n",
        "print(\"K para B =\",math.ceil(2* N_b**(1./3)))"
      ],
      "execution_count": null,
      "outputs": [
        {
          "output_type": "stream",
          "text": [
            "Regla raiz cuadrada\n",
            "K para A = 4\n",
            "K para B = 4\n",
            "Regla Sturges\n",
            "K para A = 5\n",
            "K para B = 5\n",
            "Regla Rice\n",
            "K para A = 5\n",
            "K para B = 5\n"
          ],
          "name": "stdout"
        }
      ]
    },
    {
      "cell_type": "code",
      "metadata": {
        "id": "-SegDPZGxKvA",
        "colab": {
          "base_uri": "https://localhost:8080/",
          "height": 302
        },
        "outputId": "adb69000-f88b-4726-9434-42777dc0cb3e"
      },
      "source": [
        "\n",
        "plt.hist(A, bins=5, alpha=0.8, label=\"Universidad A\")\n",
        "plt.hist(B, bins=5, alpha=0.4, label=\"Universidad B\")\n",
        "plt.legend()\n",
        "plt.show()\n",
        "\n",
        "print(\"Sesgo Universidad A = %.1f\"%(media_muestral(A)-mediana_muestral(A)))\n",
        "print(\"Sesgo Universidad B %.1f\"%(media_muestral(B)-mediana_muestral(B)))"
      ],
      "execution_count": null,
      "outputs": [
        {
          "output_type": "display_data",
          "data": {
            "image/png": "[encoded data removed]",
            "text/plain": [
              "<Figure size 432x288 with 1 Axes>"
            ]
          },
          "metadata": {
            "needs_background": "light"
          }
        },
        {
          "output_type": "stream",
          "text": [
            "Sesgo Universidad A = 0.2\n",
            "Sesgo Universidad B 6.5\n"
          ],
          "name": "stdout"
        }
      ]
    },
    {
      "cell_type": "code",
      "metadata": {
        "id": "5BILRkf0yQtf",
        "colab": {
          "base_uri": "https://localhost:8080/",
          "height": 265
        },
        "outputId": "809d575d-c084-48e0-f3fe-7bac9cfe9809"
      },
      "source": [
        "plt.boxplot([A,B])\n",
        "plt.xticks([1,2],[\"Universidad A\", \"Universidad B\"])\n",
        "plt.show()"
      ],
      "execution_count": null,
      "outputs": [
        {
          "output_type": "display_data",
          "data": {
            "image/png": "[encoded data removed]",
            "text/plain": [
              "<Figure size 432x288 with 1 Axes>"
            ]
          },
          "metadata": {
            "tags": []
          }
        }
      ]
    },
    {
      "cell_type": "markdown",
      "metadata": {
        "id": "S32urzuSv_nl"
      },
      "source": [
        "### Media poblacional vs Media muestral\n",
        "> Además de diseño de experimento"
      ]
    },
    {
      "cell_type": "code",
      "metadata": {
        "id": "VnU2ArzXwCGt",
        "colab": {
          "base_uri": "https://localhost:8080/"
        },
        "outputId": "187d4328-15f7-4b2a-90fb-34d77e473539"
      },
      "source": [
        "import numpy as np\n",
        "from scipy  import stats\n",
        "N_poblacion = 1000000\n",
        "datos_poblacion = stats.norm(loc=8, scale=3).rvs(N_poblacion)\n",
        "\n",
        "from numpy import mean\n",
        "print(\"Media poblacional\", mean(datos_poblacion))"
      ],
      "execution_count": null,
      "outputs": [
        {
          "output_type": "stream",
          "text": [
            "Media poblacional 8.00022020528144\n"
          ],
          "name": "stdout"
        }
      ]
    },
    {
      "cell_type": "code",
      "metadata": {
        "id": "KWgi5KC8wVL3",
        "colab": {
          "base_uri": "https://localhost:8080/"
        },
        "outputId": "1554a37b-562c-4f81-a74f-ea4c02d7dc9b"
      },
      "source": [
        "#recolectar una muestra completamente aleatoria\n",
        "n = 100 #tamaño de la muestra que quiero\n",
        "from numpy import random\n",
        "muestra = random.choice(datos_poblacion, size=n, replace=False) #replace indica si un mismo dato puede ser muestreado más de una vez\n",
        "print(\"Media muestral\", mean(muestra))"
      ],
      "execution_count": null,
      "outputs": [
        {
          "output_type": "stream",
          "text": [
            "Media muestral 8.751045696414197\n"
          ],
          "name": "stdout"
        }
      ]
    },
    {
      "cell_type": "code",
      "metadata": {
        "id": "9_YV9GxTwwim",
        "colab": {
          "base_uri": "https://localhost:8080/",
          "height": 355,
          "referenced_widgets": [
            "e19e0d0742ec422aa20515bf757669d1",
            "1c2f812fe086470ba4b6ddc3f5d4bb9b",
            "017237d453b1431589e4647eba7def70",
            "8ad99d3b13a846e8ae96a2ef4abcdea8",
            "0b435ae4a03a4e1ab8b6469dbfa9ecd4",
            "e31c50cfc1f2448098eea67356ac1edb",
            "74b18289b52b4b33b46cdf1cfa24c64e"
          ]
        },
        "outputId": "af29d801-cd79-45ec-ac8c-c872792e7cd0"
      },
      "source": [
        "import matplotlib.pyplot as plt\n",
        "def muestreo_exp(poblacion, n):\n",
        "  muestra = random.choice(poblacion, size=n, replace=False)\n",
        "  print(\"Media muestral\", mean(muestra))\n",
        "  print(\"Diferencia a media poblacional\", mean(datos_poblacion) - mean(muestra) )\n",
        "  plt.hist(muestra, density=True)\n",
        "  plt.show()\n",
        "\n",
        "from ipywidgets import interact, fixed\n",
        "interact(muestreo_exp, poblacion=fixed(datos_poblacion),  n=(1, int(0.001*len(datos_poblacion)) ))"
      ],
      "execution_count": null,
      "outputs": [
        {
          "output_type": "display_data",
          "data": {
            "application/vnd.jupyter.widget-view+json": {
              "model_id": "e19e0d0742ec422aa20515bf757669d1",
              "version_minor": 0,
              "version_major": 2
            },
            "text/plain": [
              "interactive(children=(IntSlider(value=500, description='n', max=1000, min=1), Output()), _dom_classes=('widget…"
            ]
          },
          "metadata": {}
        },
        {
          "output_type": "execute_result",
          "data": {
            "text/plain": [
              "<function __main__.muestreo_exp>"
            ]
          },
          "metadata": {},
          "execution_count": 39
        }
      ]
    },
    {
      "cell_type": "code",
      "metadata": {
        "colab": {
          "base_uri": "https://localhost:8080/",
          "height": 334
        },
        "id": "Xvw249iK2W8F",
        "outputId": "e202c270-6414-4263-d72c-d060d8345765"
      },
      "source": [
        "media_variacion_n = []\n",
        "valores_n = range(1, 4000, 50)\n",
        "for n in valores_n:\n",
        "  muestra = random.choice(datos_poblacion, size=n, replace=False)\n",
        "  media_variacion_n.append(mean(muestra))\n",
        "plt.figure(figsize=(15,5))\n",
        "plt.plot(valores_n, media_variacion_n, 'o-', label=\"Media muestral\")\n",
        "plt.axhline(mean(datos_poblacion), label=\"Media poblacional\", c='green')\n",
        "plt.legend()\n",
        "plt.xlabel(\"Tamaño de la muestra\")\n",
        "plt.show()\n"
      ],
      "execution_count": null,
      "outputs": [
        {
          "output_type": "display_data",
          "data": {
            "image/png": "[encoded data removed]",
            "text/plain": [
              "<Figure size 1080x360 with 1 Axes>"
            ]
          },
          "metadata": {
            "needs_background": "light"
          }
        }
      ]
    },
    {
      "cell_type": "markdown",
      "metadata": {
        "id": "KV0mAzF5zKAJ"
      },
      "source": [
        "Un diseño de experimento podría constar en que no todos los datos tienen la misma probabilidad de ser seleccionados "
      ]
    },
    {
      "cell_type": "code",
      "metadata": {
        "id": "k-_5fqLkzR8b",
        "colab": {
          "base_uri": "https://localhost:8080/",
          "height": 35
        },
        "outputId": "767d435e-2450-40be-b4a2-a1dfa4b02029"
      },
      "source": [
        "S1 = [5, 2, 3, 5, 6, 1, 2]\n",
        "random.choice(S1, size=3, p=[0.1, 0.0, 0.2, 0.5, 0.0, 0.15, 0.05], replace=True) #p: probabilidad de que sea muestreado cada dato en la muestra."
      ],
      "execution_count": null,
      "outputs": [
        {
          "output_type": "execute_result",
          "data": {
            "text/plain": [
              "array([5, 1, 5])"
            ]
          },
          "metadata": {
            "tags": []
          },
          "execution_count": 56
        }
      ]
    },
    {
      "cell_type": "markdown",
      "metadata": {
        "id": "8qs1FEz70hT7"
      },
      "source": [
        "¿Qué tanto varía la media muestral si tomo varias muestras del mismo tamaño con reemplazo?"
      ]
    },
    {
      "cell_type": "code",
      "metadata": {
        "id": "uBGWEq6y0pXd",
        "colab": {
          "base_uri": "https://localhost:8080/",
          "height": 301
        },
        "outputId": "e53d6e75-6a78-43b9-a149-d5d9ad0dc234"
      },
      "source": [
        "n = 100 #tamaño de la muestra que quiero\n",
        "\n",
        "media_calculadas = []\n",
        "for i in range(500): #repite 500 veces el muestreo\n",
        "  muestra = random.choice(datos_poblacion, size=n, replace=True)\n",
        "  media_calculadas.append(mean(muestra))\n",
        "\n",
        "plt.hist(media_calculadas)\n",
        "plt.show()\n",
        "print(\"Desviación estándar de la muestra de la media poblacional =\", std(media_calculadas))\n",
        "print(\"Media de la muestra de la media poblacional =\", mean(media_calculadas))"
      ],
      "execution_count": null,
      "outputs": [
        {
          "output_type": "display_data",
          "data": {
            "image/png": "[encoded data removed]",
            "text/plain": [
              "<Figure size 432x288 with 1 Axes>"
            ]
          },
          "metadata": {
            "tags": [],
            "needs_background": "light"
          }
        },
        {
          "output_type": "stream",
          "text": [
            "Desviación estándar de la muestra de la media poblacional = 0.575146527031357\n",
            "Media de la muestra de la media poblacional = 6.0227131261194415\n"
          ],
          "name": "stdout"
        }
      ]
    },
    {
      "cell_type": "markdown",
      "metadata": {
        "id": "GKU0bgWc09vh"
      },
      "source": [
        "La media de las medias muestrales está bastante cercana a la media poblacional, mucho más cercana que si tuviera una muestra muy grande. Es decir, conviene tener varias muestras pequeñas (o repetir varias veces el muestreo pequeño) que tener una muestra grande, ya que es muy difícil que alcance el tamaño de la población.\n",
        "> Además obtuvimos un histograma del comportamiento de la media muestral sobre el muestreo para esta población."
      ]
    },
    {
      "cell_type": "code",
      "metadata": {
        "colab": {
          "base_uri": "https://localhost:8080/",
          "height": 334
        },
        "id": "FzH_gcbO3ytM",
        "outputId": "da915a59-0d4d-4a90-8279-3ffe70f53ce7"
      },
      "source": [
        "media_variacion_repeticion = []\n",
        "repeticiones = range(1, 500,10)\n",
        "for i in repeticiones: \n",
        "  media_variacion_repeticion.append(mean(media_calculadas[:i]))\n",
        "plt.figure(figsize=(15,5))\n",
        "plt.plot(repeticiones, media_variacion_repeticion, 'o-', label=\"Media muestral\")\n",
        "plt.axhline(mean(datos_poblacion), label=\"Media poblacional\", c='green')\n",
        "plt.axhline(media_variacion_n[-1], label=\"Media muestral con n=4000\", c='red')\n",
        "plt.legend()\n",
        "plt.xlabel(\"Cantidad de repeticiones del muestreo\")\n",
        "plt.show()\n"
      ],
      "execution_count": null,
      "outputs": [
        {
          "output_type": "display_data",
          "data": {
            "image/png": "[encoded data removed]",
            "text/plain": [
              "<Figure size 1080x360 with 1 Axes>"
            ]
          },
          "metadata": {
            "tags": []
          }
        }
      ]
    },
    {
      "cell_type": "markdown",
      "metadata": {
        "id": "Q-W3Ee1o1T2l"
      },
      "source": [
        "## Outliers? Robustez!"
      ]
    },
    {
      "cell_type": "code",
      "metadata": {
        "id": "qh0-ydZnqDh5"
      },
      "source": [
        "import numpy as np\n",
        "from scipy.stats import trimboth, trim_mean\n",
        "import matplotlib.pyplot as plt\n",
        "import seaborn as sns\n",
        "sns.set_style(\"darkgrid\")\n",
        "\n",
        "x = np.random.normal(size=50)\n",
        "aux_shifted = np.random.normal(size=5)\n",
        "def generate_sample(offset, p):\n",
        "  shifted_x =  aux_shifted+ offset\n",
        "  new_x = np.concatenate([x,shifted_x])\n",
        "\n",
        "  w = 0.25\n",
        "  bin_edges = np.arange(new_x.min(), new_x.max()+w, w)\n",
        "  plt.figure(figsize=(15,5))\n",
        "  plt.hist(new_x, bins=bin_edges)\n",
        "  plt.axvline(np.mean(new_x), label=\"Media muestral\", c='orange', linewidth=5, linestyle='solid')\n",
        "  plt.axvline(np.median(new_x), label=\"Mediana muestral\", c='green', linewidth=5, linestyle='solid')\n",
        "  plt.axvline(trim_mean(new_x, p), label=\"Media truncada (bajo p)\", c='black', linewidth=5, linestyle='dotted')\n",
        "  plt.legend()\n",
        "  plt.show()\n",
        "  print(\"Desviación estándar = %.2f\"%(np.std(new_x)))\n",
        "  print(\"Desviación estándar = %.2f\"%(np.std(new_x)))"
      ],
      "execution_count": null,
      "outputs": []
    },
    {
      "cell_type": "code",
      "metadata": {
        "colab": {
          "base_uri": "https://localhost:8080/",
          "height": 496,
          "referenced_widgets": [
            "66be4a53a3184a37a8536d0c5f4507f5",
            "47c9942710e248b2898747b2b1f92040",
            "c10e54197d974f89a15aebeab4592146",
            "f4a3178402224907aa96bf21598fbf7c",
            "8204f8df52244916ad7727db55f4e6a3",
            "f50e20d3084843258f8023c2bcc82b2b",
            "0b1e50da819a46db9cd1019d578d6088",
            "97ee904a511040b8bb002bdc69836f99",
            "8f88d1269ce5450c922de3d9292ab63e",
            "08430e97d3984b1084a876da9ebc9a18"
          ]
        },
        "id": "dL1SHA-nsEW5",
        "outputId": "9fa11ef4-3833-4722-c58f-9111ce08ad2e"
      },
      "source": [
        "from IPython.html.widgets import interact, fixed\n",
        "interact(generate_sample, offset=(1,20), p=(0,0.25,0.05))"
      ],
      "execution_count": null,
      "outputs": [
        {
          "output_type": "stream",
          "text": [
            "/usr/local/lib/python3.7/dist-packages/IPython/html.py:14: ShimWarning: The `IPython.html` package has been deprecated since IPython 4.0. You should import from `notebook` instead. `IPython.html.widgets` has moved to `ipywidgets`.\n",
            "  \"`IPython.html.widgets` has moved to `ipywidgets`.\", ShimWarning)\n"
          ],
          "name": "stderr"
        },
        {
          "output_type": "display_data",
          "data": {
            "application/vnd.jupyter.widget-view+json": {
              "model_id": "66be4a53a3184a37a8536d0c5f4507f5",
              "version_minor": 0,
              "version_major": 2
            },
            "text/plain": [
              "interactive(children=(IntSlider(value=10, description='offset', max=20, min=1), FloatSlider(value=0.1, descrip…"
            ]
          },
          "metadata": {}
        },
        {
          "output_type": "execute_result",
          "data": {
            "text/plain": [
              "<function __main__.generate_sample>"
            ]
          },
          "metadata": {},
          "execution_count": 46
        }
      ]
    },
    {
      "cell_type": "code",
      "metadata": {
        "colab": {
          "base_uri": "https://localhost:8080/",
          "height": 273
        },
        "id": "DUOq-euTzECi",
        "outputId": "1db87a84-7e4b-4823-8e27-763282f3b63e"
      },
      "source": [
        "fig, axx = plt.subplots(1,5, figsize=(18,4))\n",
        "axx[0].plot(offset_to_try, rangos,'o-', label=\"Rango\")\n",
        "axx[1].plot(offset_to_try, stds, 'o-',label=\"Desviación Estándar\")\n",
        "axx[2].plot(offset_to_try, vars, 'o-',label=\"Varianza\")\n",
        "axx[3].plot(offset_to_try, iqrs, 'o-',label=\"Rango Intercuartílico (IQR)\")\n",
        "axx[4].plot(offset_to_try, mads, 'o-',label=\"Median Absolute Deviation (MAD)\")\n",
        "for i in range(5):\n",
        "  axx[i].set_xlabel(\"Shift positivo de outliers\")\n",
        "  axx[i].legend()\n",
        "plt.show()"
      ],
      "execution_count": null,
      "outputs": [
        {
          "output_type": "display_data",
          "data": {
            "image/png": "[encoded data removed]",
            "text/plain": [
              "<Figure size 1296x288 with 5 Axes>"
            ]
          },
          "metadata": {}
        }
      ]
    },
    {
      "cell_type": "code",
      "metadata": {
        "id": "EL1OUQPuy0QL"
      },
      "source": [
        "from scipy.stats import iqr\n",
        "stds = []\n",
        "vars = []\n",
        "rangos = []\n",
        "iqrs = []\n",
        "mads = []\n",
        "offset_to_try = np.arange(2,25)\n",
        "for off in offset_to_try:\n",
        "  shifted_x =  aux_shifted+ off\n",
        "  new_x = np.concatenate([x,shifted_x])\n",
        "  vars.append(np.var(new_x))\n",
        "  stds.append(np.std(new_x))\n",
        "  rangos.append(new_x.max() - new_x.min())\n",
        "  iqrs.append(iqr(new_x))\n",
        "  mads.append(np.median(np.abs(new_x-np.median(new_x))))"
      ],
      "execution_count": null,
      "outputs": []
    },
    {
      "cell_type": "markdown",
      "metadata": {
        "id": "RYP4F90--rt6"
      },
      "source": [
        "## Promedio de Promedios?"
      ]
    },
    {
      "cell_type": "code",
      "metadata": {
        "colab": {
          "base_uri": "https://localhost:8080/",
          "height": 320
        },
        "id": "hWTN3g1z-169",
        "outputId": "3f59b1ba-c6e7-4438-ad1a-73ac7b94b9bd"
      },
      "source": [
        "n1 = 100\n",
        "n2 = 20\n",
        "n3 = 50\n",
        "\n",
        "from scipy.stats import norm\n",
        "S1 = norm(loc=0, scale=1).rvs(n1)\n",
        "S2 = norm(loc=5, scale=1).rvs(n2)\n",
        "S3 = norm(loc=-3, scale=1).rvs(n3)\n",
        "\n",
        "import numpy as np\n",
        "import matplotlib.pyplot as plt\n",
        "import seaborn as sns\n",
        "sns.set_style(\"darkgrid\")\n",
        "plt.figure(figsize=(10,5))\n",
        "plt.hist(S1, label=\"Comportamiento bajo síntoma A en muestra\", alpha=0.8)\n",
        "plt.axvline(np.mean(S1), color='black', linestyle='dotted', linewidth=3)\n",
        "plt.hist(S2, label=\"Comportamiento bajo síntoma B en muestra\", alpha=0.8)\n",
        "plt.axvline(np.mean(S2), color='black', linestyle='dotted', linewidth=3)\n",
        "plt.hist(S3, label=\"Comportamiento bajo síntoma C en muestra\", alpha=0.8)\n",
        "plt.axvline(np.mean(S3), color='black', linestyle='dotted', linewidth=3)\n",
        "plt.legend()\n",
        "plt.show()"
      ],
      "execution_count": null,
      "outputs": [
        {
          "output_type": "display_data",
          "data": {
            "image/png": "[encoded data removed]",
            "text/plain": [
              "<Figure size 720x360 with 1 Axes>"
            ]
          },
          "metadata": {
            "tags": []
          }
        }
      ]
    },
    {
      "cell_type": "markdown",
      "metadata": {
        "id": "XcsCEA7wA4ZJ"
      },
      "source": [
        "> son tres diferentes tipos pero bajo una misma muestra que se está estudiando, por lo que la media muestral (promedio de la muestra) es:"
      ]
    },
    {
      "cell_type": "code",
      "metadata": {
        "colab": {
          "base_uri": "https://localhost:8080/"
        },
        "id": "_HqQzounA1fO",
        "outputId": "204e3f15-9db2-4cb0-bedb-ccc1b9254daa"
      },
      "source": [
        "print(\"Media muestral =\",np.mean(np.concatenate([S1,S2,S3])))"
      ],
      "execution_count": null,
      "outputs": [
        {
          "output_type": "stream",
          "text": [
            "Media muestral = -0.2637899341791541\n"
          ],
          "name": "stdout"
        }
      ]
    },
    {
      "cell_type": "markdown",
      "metadata": {
        "id": "4_1aYlrWBF6Q"
      },
      "source": [
        "> ¿Promedio entre los tres promedios de cada tipo?"
      ]
    },
    {
      "cell_type": "code",
      "metadata": {
        "colab": {
          "base_uri": "https://localhost:8080/"
        },
        "id": "0UfNnLvM_eOd",
        "outputId": "c25975f7-cd2e-4bc3-fba8-f5c5eb5d38b0"
      },
      "source": [
        "mean_S1 = np.mean(S1)\n",
        "mean_S2 = np.mean(S2)\n",
        "mean_S3 = np.mean(S3)\n",
        "print(\"Promedio entre promedios = \", ( mean_S1 + mean_S2+ mean_S3 )/3.)"
      ],
      "execution_count": null,
      "outputs": [
        {
          "output_type": "stream",
          "text": [
            "Promedio entre promedios =  0.6717611901178682\n"
          ],
          "name": "stdout"
        }
      ]
    },
    {
      "cell_type": "markdown",
      "metadata": {
        "id": "o3ufp8yHBf6z"
      },
      "source": [
        "> Sumar las suma de cada muestra (esto se obtiene multiplicando por la cantidad de datos), luego se divide por el total\n",
        "* $n \\cdot \\bar{x} = n \\sum_{i}^n \\frac{x_i}{n} = \\sum_i^n x_i$\n",
        "\n",
        "$ n \\cdot \\bar{x}_{\\text{total}} = \\sum_{i}^n x_i = \\sum_{x_i \\in A} x_i + \\sum_{x_i \\in B} x_i + \\sum_{x_i \\in C} x_i    = n_A\\cdot \\bar{x}^{A} + n_B \\cdot \\bar{x}^{B} + n_C \\cdot \\bar{x}^{C}$"
      ]
    },
    {
      "cell_type": "code",
      "metadata": {
        "colab": {
          "base_uri": "https://localhost:8080/"
        },
        "id": "SoVhD-xrBoFo",
        "outputId": "3b0a11ae-96f7-41f2-a3c6-a8723ef8c3d9"
      },
      "source": [
        "print(\"Promedio ponderado entre promedios = \", ( mean_S1*n1 + mean_S2*n2 + mean_S3*n3 )/(n1+n2+n3))"
      ],
      "execution_count": null,
      "outputs": [
        {
          "output_type": "stream",
          "text": [
            "Promedio ponderado entre promedios =  -0.2637899341791541\n"
          ],
          "name": "stdout"
        }
      ]
    },
    {
      "cell_type": "markdown",
      "metadata": {
        "id": "2ODHllyeCbJe"
      },
      "source": [
        "Lo anterior es equivalente a un  promedio **ponderado** entre los tres promedios, pesando por el tamaño de cada tipo relativo a la muestra total.  \n",
        "$ \\bar{x}_{\\text{total}} = w_A\\cdot \\bar{x}^{A} + w_B \\cdot \\bar{x}^{B} + w_C \\cdot \\bar{x}^{C}$ \n",
        "* $w_j = \\frac{n_j}{n_A + n_B + n_C}$"
      ]
    },
    {
      "cell_type": "code",
      "metadata": {
        "colab": {
          "base_uri": "https://localhost:8080/"
        },
        "id": "AQJj2ys6CAdx",
        "outputId": "d5d3ee6b-ac97-468b-9f6b-d252efb327aa"
      },
      "source": [
        "peso_1 = n1/(n1+n2+n3)\n",
        "peso_2 = n2/(n1+n2+n3)\n",
        "peso_3 = n3/(n1+n2+n3)\n",
        "print(\"Promedio ponderado entre promedios = \", mean_S1*peso_1 + mean_S2*peso_2 + mean_S3*peso_3)"
      ],
      "execution_count": null,
      "outputs": [
        {
          "output_type": "stream",
          "text": [
            "Promedio ponderado entre promedios =  -0.2637899341791542\n"
          ],
          "name": "stdout"
        }
      ]
    },
    {
      "cell_type": "markdown",
      "metadata": {
        "id": "oUdLlT5NXK97"
      },
      "source": [
        "## Caso de Prueba\n",
        "\n",
        "Fenómeno de estudio, la cantidad de gente que utiliza el metro cada hora en una cierta ciudad en un cierto mes.\n",
        "\n",
        "----\n",
        "\n",
        "* Población: Toda la gente que utiliza el metro\n",
        "* Muestra: Un cierto mes del año.\n",
        "* Variable: Cantidad de gente que utiliza el metro cada hora.\n",
        "  * Precisión decimal: valores enteros (personas).\n",
        "  * Ya que el metro no está abierto todas las horas de ese mes, la cantidad de datos total no suman la cantidad de horas de 1 mes"
      ]
    },
    {
      "cell_type": "code",
      "metadata": {
        "colab": {
          "base_uri": "https://localhost:8080/",
          "height": 206
        },
        "id": "uLMxGgXwgYkg",
        "outputId": "fba4a9f2-f372-4cca-ca5c-01703ae30c33"
      },
      "source": [
        "import pandas as pd\n",
        "import numpy as np\n",
        "\n",
        "df = pd.read_csv(\"https://drive.google.com/uc?id=1-7s8lddmHvZa_1tZWzYSfRpJ1ATcdv9M\")\n",
        "df.head()"
      ],
      "execution_count": null,
      "outputs": [
        {
          "output_type": "execute_result",
          "data": {
            "text/html": [
              "<div>\n",
              "<style scoped>\n",
              "    .dataframe tbody tr th:only-of-type {\n",
              "        vertical-align: middle;\n",
              "    }\n",
              "\n",
              "    .dataframe tbody tr th {\n",
              "        vertical-align: top;\n",
              "    }\n",
              "\n",
              "    .dataframe thead th {\n",
              "        text-align: right;\n",
              "    }\n",
              "</style>\n",
              "<table border=\"1\" class=\"dataframe\">\n",
              "  <thead>\n",
              "    <tr style=\"text-align: right;\">\n",
              "      <th></th>\n",
              "      <th>Linea A</th>\n",
              "      <th>Linea B</th>\n",
              "      <th>Linea C</th>\n",
              "    </tr>\n",
              "  </thead>\n",
              "  <tbody>\n",
              "    <tr>\n",
              "      <th>0</th>\n",
              "      <td>57</td>\n",
              "      <td>131</td>\n",
              "      <td>117</td>\n",
              "    </tr>\n",
              "    <tr>\n",
              "      <th>1</th>\n",
              "      <td>165</td>\n",
              "      <td>55</td>\n",
              "      <td>74</td>\n",
              "    </tr>\n",
              "    <tr>\n",
              "      <th>2</th>\n",
              "      <td>9</td>\n",
              "      <td>138</td>\n",
              "      <td>26</td>\n",
              "    </tr>\n",
              "    <tr>\n",
              "      <th>3</th>\n",
              "      <td>19</td>\n",
              "      <td>72</td>\n",
              "      <td>28</td>\n",
              "    </tr>\n",
              "    <tr>\n",
              "      <th>4</th>\n",
              "      <td>99</td>\n",
              "      <td>41</td>\n",
              "      <td>110</td>\n",
              "    </tr>\n",
              "  </tbody>\n",
              "</table>\n",
              "</div>"
            ],
            "text/plain": [
              "   Linea A  Linea B  Linea C\n",
              "0       57      131      117\n",
              "1      165       55       74\n",
              "2        9      138       26\n",
              "3       19       72       28\n",
              "4       99       41      110"
            ]
          },
          "metadata": {},
          "execution_count": 178
        }
      ]
    },
    {
      "cell_type": "code",
      "metadata": {
        "colab": {
          "base_uri": "https://localhost:8080/",
          "height": 657
        },
        "id": "ln3xrd7ahUbb",
        "outputId": "419e5053-91b1-42cb-8011-5ba49f31cd7e"
      },
      "source": [
        "plt.figure(figsize=(15,6))\n",
        "sns.boxplot(data = [df[\"Linea A\"], df[\"Linea B\"], df[\"Linea C\"]])\n",
        "\n",
        "plt.xticks([0,1],[\"Linea A\", \"Linea B\", \"Linea C\"])\n",
        "plt.axhline(np.median(df[\"Linea B\"]) , color='red', linestyle='dotted')\n",
        "plt.show()\n",
        "\n",
        "df.describe()"
      ],
      "execution_count": null,
      "outputs": [
        {
          "output_type": "display_data",
          "data": {
            "image/png": "[encoded data removed]",
            "text/plain": [
              "<Figure size 1080x432 with 1 Axes>"
            ]
          },
          "metadata": {}
        },
        {
          "output_type": "execute_result",
          "data": {
            "text/html": [
              "<div>\n",
              "<style scoped>\n",
              "    .dataframe tbody tr th:only-of-type {\n",
              "        vertical-align: middle;\n",
              "    }\n",
              "\n",
              "    .dataframe tbody tr th {\n",
              "        vertical-align: top;\n",
              "    }\n",
              "\n",
              "    .dataframe thead th {\n",
              "        text-align: right;\n",
              "    }\n",
              "</style>\n",
              "<table border=\"1\" class=\"dataframe\">\n",
              "  <thead>\n",
              "    <tr style=\"text-align: right;\">\n",
              "      <th></th>\n",
              "      <th>Linea A</th>\n",
              "      <th>Linea B</th>\n",
              "      <th>Linea C</th>\n",
              "    </tr>\n",
              "  </thead>\n",
              "  <tbody>\n",
              "    <tr>\n",
              "      <th>count</th>\n",
              "      <td>439.000000</td>\n",
              "      <td>439.000000</td>\n",
              "      <td>439.000000</td>\n",
              "    </tr>\n",
              "    <tr>\n",
              "      <th>mean</th>\n",
              "      <td>78.831435</td>\n",
              "      <td>76.077449</td>\n",
              "      <td>76.455581</td>\n",
              "    </tr>\n",
              "    <tr>\n",
              "      <th>std</th>\n",
              "      <td>78.263948</td>\n",
              "      <td>49.046790</td>\n",
              "      <td>41.666618</td>\n",
              "    </tr>\n",
              "    <tr>\n",
              "      <th>min</th>\n",
              "      <td>0.000000</td>\n",
              "      <td>9.000000</td>\n",
              "      <td>13.000000</td>\n",
              "    </tr>\n",
              "    <tr>\n",
              "      <th>25%</th>\n",
              "      <td>17.000000</td>\n",
              "      <td>40.000000</td>\n",
              "      <td>41.500000</td>\n",
              "    </tr>\n",
              "    <tr>\n",
              "      <th>50%</th>\n",
              "      <td>49.000000</td>\n",
              "      <td>55.000000</td>\n",
              "      <td>69.000000</td>\n",
              "    </tr>\n",
              "    <tr>\n",
              "      <th>75%</th>\n",
              "      <td>153.500000</td>\n",
              "      <td>98.000000</td>\n",
              "      <td>105.000000</td>\n",
              "    </tr>\n",
              "    <tr>\n",
              "      <th>max</th>\n",
              "      <td>271.000000</td>\n",
              "      <td>220.000000</td>\n",
              "      <td>210.000000</td>\n",
              "    </tr>\n",
              "  </tbody>\n",
              "</table>\n",
              "</div>"
            ],
            "text/plain": [
              "          Linea A     Linea B     Linea C\n",
              "count  439.000000  439.000000  439.000000\n",
              "mean    78.831435   76.077449   76.455581\n",
              "std     78.263948   49.046790   41.666618\n",
              "min      0.000000    9.000000   13.000000\n",
              "25%     17.000000   40.000000   41.500000\n",
              "50%     49.000000   55.000000   69.000000\n",
              "75%    153.500000   98.000000  105.000000\n",
              "max    271.000000  220.000000  210.000000"
            ]
          },
          "metadata": {},
          "execution_count": 174
        }
      ]
    },
    {
      "cell_type": "code",
      "metadata": {
        "colab": {
          "base_uri": "https://localhost:8080/",
          "height": 641
        },
        "id": "cxk2IkmMeFeI",
        "outputId": "5d9882e5-36f7-44ad-a47e-e5d440c38606"
      },
      "source": [
        "plt.figure(figsize=(10,5))\n",
        "plt.hist(df[\"Linea A\"], label=\"Linea A\", alpha=0.95)\n",
        "plt.axvline(np.mean(df[\"Linea A\"]), color='blue', linestyle='dotted', linewidth=3)\n",
        "plt.hist(df[\"Linea B\"], label=\"Linea B\", alpha=0.6)\n",
        "plt.axvline(np.mean(df[\"Linea B\"]), color='orange', linestyle='dotted', linewidth=3)\n",
        "plt.legend()\n",
        "plt.show()\n",
        "\n",
        "print(\"Detailed\")\n",
        "plt.figure(figsize=(10,5))\n",
        "plt.hist(df[\"Linea A\"], label=\"Linea A\", alpha=0.95, bins=30)\n",
        "plt.axvline(np.mean(df[\"Linea A\"]), color='blue', linestyle='dotted', linewidth=3)\n",
        "plt.hist(df[\"Linea B\"], label=\"Linea B\", alpha=0.6, bins=30)\n",
        "plt.axvline(np.mean(df[\"Linea B\"]), color='orange', linestyle='dotted', linewidth=3)\n",
        "plt.legend()\n",
        "plt.show()"
      ],
      "execution_count": null,
      "outputs": [
        {
          "output_type": "display_data",
          "data": {
            "image/png": "[encoded data removed]",
            "text/plain": [
              "<Figure size 720x360 with 1 Axes>"
            ]
          },
          "metadata": {}
        },
        {
          "output_type": "stream",
          "text": [
            "Detailed\n"
          ],
          "name": "stdout"
        },
        {
          "output_type": "display_data",
          "data": {
            "image/png": "[encoded data removed]",
            "text/plain": [
              "<Figure size 720x360 with 1 Axes>"
            ]
          },
          "metadata": {}
        }
      ]
    },
    {
      "cell_type": "code",
      "metadata": {
        "colab": {
          "base_uri": "https://localhost:8080/",
          "height": 641
        },
        "id": "E5_TtQ7qhvFM",
        "outputId": "0ae0e31b-5de7-4e22-8f4f-1d1a0e841c70"
      },
      "source": [
        "plt.figure(figsize=(10,5))\n",
        "plt.hist(df[\"Linea A\"], label=\"Linea A\", alpha=0.95)\n",
        "plt.axvline(np.mean(df[\"Linea A\"]), color='blue', linestyle='dotted', linewidth=3)\n",
        "plt.hist(df[\"Linea C\"], label=\"Linea C\", alpha=0.6)\n",
        "plt.axvline(np.mean(df[\"Linea C\"]), color='orange', linestyle='dotted', linewidth=3)\n",
        "plt.legend()\n",
        "plt.show()\n",
        "\n",
        "print(\"Detailed\")\n",
        "plt.figure(figsize=(10,5))\n",
        "plt.hist(df[\"Linea A\"], label=\"Linea A\", alpha=0.95, bins=30)\n",
        "plt.axvline(np.mean(df[\"Linea A\"]), color='blue', linestyle='dotted', linewidth=3)\n",
        "plt.hist(df[\"Linea C\"], label=\"Linea C\", alpha=0.6, bins=30)\n",
        "plt.axvline(np.mean(df[\"Linea C\"]), color='orange', linestyle='dotted', linewidth=3)\n",
        "plt.legend()\n",
        "plt.show()"
      ],
      "execution_count": null,
      "outputs": [
        {
          "output_type": "display_data",
          "data": {
            "image/png": "[encoded data removed]",
            "text/plain": [
              "<Figure size 720x360 with 1 Axes>"
            ]
          },
          "metadata": {}
        },
        {
          "output_type": "stream",
          "text": [
            "Detailed\n"
          ],
          "name": "stdout"
        },
        {
          "output_type": "display_data",
          "data": {
            "image/png": "[encoded data removed]",
            "text/plain": [
              "<Figure size 720x360 with 1 Axes>"
            ]
          },
          "metadata": {}
        }
      ]
    }
  ]
}